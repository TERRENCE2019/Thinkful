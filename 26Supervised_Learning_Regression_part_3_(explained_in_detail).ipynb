{
  "nbformat": 4,
  "nbformat_minor": 0,
  "metadata": {
    "colab": {
      "name": "26Supervised Learning - Regression part 3 (explained in detail).ipynb",
      "provenance": [],
      "include_colab_link": true
    },
    "kernelspec": {
      "name": "python3",
      "display_name": "Python 3"
    }
  },
  "cells": [
    {
      "cell_type": "markdown",
      "metadata": {
        "id": "view-in-github",
        "colab_type": "text"
      },
      "source": [
        "<a href=\"https://colab.research.google.com/github/TERRENCE2019/Thinkful/blob/master/26Supervised_Learning_Regression_part_3_(explained_in_detail).ipynb\" target=\"_parent\"><img src=\"https://colab.research.google.com/assets/colab-badge.svg\" alt=\"Open In Colab\"/></a>"
      ]
    },
    {
      "cell_type": "code",
      "metadata": {
        "id": "HK-ynLOjvsrU",
        "colab_type": "code",
        "colab": {}
      },
      "source": [
        "import numpy as np #Numpy provides fast mathematical function processing\n",
        "import matplotlib.pyplot as plt #Machine Learning library to create plots and data visualizations\n",
        "import pandas as pd  #Pandas is used for easy indexing and data collection tools\n",
        "import seaborn as sns #A library to do more attractive and indepth data visualizations than Matplotlib\n",
        "from sklearn.model_selection import train_test_split #Has replaced \"import sklearn.cross_validation as cross_validation\"\n",
        "from sklearn.linear_model import LinearRegression #Machine Learning library used to display \n",
        "from sklearn.svm import LinearSVC #Used is to fit to the data you provide, returning a \"best fit\" for regression/classification\n"
      ],
      "execution_count": 0,
      "outputs": []
    },
    {
      "cell_type": "code",
      "metadata": {
        "id": "jQACgZWVvyKg",
        "colab_type": "code",
        "colab": {}
      },
      "source": [
        "#This is the code to import csv files\n",
        "#\"Sampledata\" is the dataframe\n",
        "#I named it \"Sampledata\" you can name yours anything you want\n",
        "Sampledata=pd.read_csv(\"https://raw.githubusercontent.com/TERRENCE2019/DATASETS/master/student_scores.csv\")\n"
      ],
      "execution_count": 0,
      "outputs": []
    },
    {
      "cell_type": "code",
      "metadata": {
        "id": "FzyNUnAH1zOs",
        "colab_type": "code",
        "outputId": "fd40d23e-9840-4c45-ef51-c33418265291",
        "colab": {
          "base_uri": "https://localhost:8080/",
          "height": 34
        }
      },
      "source": [
        "#Shows us entire dataset in rows and columns\n",
        "Sampledata.shape"
      ],
      "execution_count": 23,
      "outputs": [
        {
          "output_type": "execute_result",
          "data": {
            "text/plain": [
              "(25, 2)"
            ]
          },
          "metadata": {
            "tags": []
          },
          "execution_count": 23
        }
      ]
    },
    {
      "cell_type": "code",
      "metadata": {
        "id": "x_Jn-ZT69qpV",
        "colab_type": "code",
        "outputId": "921ffe3f-4936-4fea-cd96-596ad843e087",
        "colab": {
          "base_uri": "https://localhost:8080/",
          "height": 347
        }
      },
      "source": [
        "#This is the dataframe\n",
        "#Now we want to preview our data using the code below\n",
        "#The number of rows and columns are displayed at bottom\n",
        "Sampledata.head(10)"
      ],
      "execution_count": 24,
      "outputs": [
        {
          "output_type": "execute_result",
          "data": {
            "text/html": [
              "<div>\n",
              "<style scoped>\n",
              "    .dataframe tbody tr th:only-of-type {\n",
              "        vertical-align: middle;\n",
              "    }\n",
              "\n",
              "    .dataframe tbody tr th {\n",
              "        vertical-align: top;\n",
              "    }\n",
              "\n",
              "    .dataframe thead th {\n",
              "        text-align: right;\n",
              "    }\n",
              "</style>\n",
              "<table border=\"1\" class=\"dataframe\">\n",
              "  <thead>\n",
              "    <tr style=\"text-align: right;\">\n",
              "      <th></th>\n",
              "      <th>Hours</th>\n",
              "      <th>Scores</th>\n",
              "    </tr>\n",
              "  </thead>\n",
              "  <tbody>\n",
              "    <tr>\n",
              "      <th>0</th>\n",
              "      <td>2.5</td>\n",
              "      <td>21</td>\n",
              "    </tr>\n",
              "    <tr>\n",
              "      <th>1</th>\n",
              "      <td>5.1</td>\n",
              "      <td>47</td>\n",
              "    </tr>\n",
              "    <tr>\n",
              "      <th>2</th>\n",
              "      <td>3.2</td>\n",
              "      <td>27</td>\n",
              "    </tr>\n",
              "    <tr>\n",
              "      <th>3</th>\n",
              "      <td>8.5</td>\n",
              "      <td>75</td>\n",
              "    </tr>\n",
              "    <tr>\n",
              "      <th>4</th>\n",
              "      <td>3.5</td>\n",
              "      <td>30</td>\n",
              "    </tr>\n",
              "    <tr>\n",
              "      <th>5</th>\n",
              "      <td>1.5</td>\n",
              "      <td>20</td>\n",
              "    </tr>\n",
              "    <tr>\n",
              "      <th>6</th>\n",
              "      <td>9.2</td>\n",
              "      <td>88</td>\n",
              "    </tr>\n",
              "    <tr>\n",
              "      <th>7</th>\n",
              "      <td>5.5</td>\n",
              "      <td>60</td>\n",
              "    </tr>\n",
              "    <tr>\n",
              "      <th>8</th>\n",
              "      <td>8.3</td>\n",
              "      <td>81</td>\n",
              "    </tr>\n",
              "    <tr>\n",
              "      <th>9</th>\n",
              "      <td>2.7</td>\n",
              "      <td>25</td>\n",
              "    </tr>\n",
              "  </tbody>\n",
              "</table>\n",
              "</div>"
            ],
            "text/plain": [
              "   Hours  Scores\n",
              "0    2.5      21\n",
              "1    5.1      47\n",
              "2    3.2      27\n",
              "3    8.5      75\n",
              "4    3.5      30\n",
              "5    1.5      20\n",
              "6    9.2      88\n",
              "7    5.5      60\n",
              "8    8.3      81\n",
              "9    2.7      25"
            ]
          },
          "metadata": {
            "tags": []
          },
          "execution_count": 24
        }
      ]
    },
    {
      "cell_type": "code",
      "metadata": {
        "id": "U1OqfBUHCKX-",
        "colab_type": "code",
        "colab": {
          "base_uri": "https://localhost:8080/",
          "height": 287
        },
        "outputId": "184be013-ff55-4233-b825-1088a4bca6f4"
      },
      "source": [
        "#This gives us some insight into our data\n",
        "#Count tells us that every row is equal in both columns\n",
        "#Mean tells us the average of the values in each column\n",
        "#Standard Deviation is the disparity between the each number and the mean\n",
        "#A low standard deviation means that most of the numbers are close to the average (mean)\n",
        "#A high standard deviation means that the numbers are more spread out\n",
        "Sampledata.describe()\n"
      ],
      "execution_count": 25,
      "outputs": [
        {
          "output_type": "execute_result",
          "data": {
            "text/html": [
              "<div>\n",
              "<style scoped>\n",
              "    .dataframe tbody tr th:only-of-type {\n",
              "        vertical-align: middle;\n",
              "    }\n",
              "\n",
              "    .dataframe tbody tr th {\n",
              "        vertical-align: top;\n",
              "    }\n",
              "\n",
              "    .dataframe thead th {\n",
              "        text-align: right;\n",
              "    }\n",
              "</style>\n",
              "<table border=\"1\" class=\"dataframe\">\n",
              "  <thead>\n",
              "    <tr style=\"text-align: right;\">\n",
              "      <th></th>\n",
              "      <th>Hours</th>\n",
              "      <th>Scores</th>\n",
              "    </tr>\n",
              "  </thead>\n",
              "  <tbody>\n",
              "    <tr>\n",
              "      <th>count</th>\n",
              "      <td>25.000000</td>\n",
              "      <td>25.000000</td>\n",
              "    </tr>\n",
              "    <tr>\n",
              "      <th>mean</th>\n",
              "      <td>5.012000</td>\n",
              "      <td>51.480000</td>\n",
              "    </tr>\n",
              "    <tr>\n",
              "      <th>std</th>\n",
              "      <td>2.525094</td>\n",
              "      <td>25.286887</td>\n",
              "    </tr>\n",
              "    <tr>\n",
              "      <th>min</th>\n",
              "      <td>1.100000</td>\n",
              "      <td>17.000000</td>\n",
              "    </tr>\n",
              "    <tr>\n",
              "      <th>25%</th>\n",
              "      <td>2.700000</td>\n",
              "      <td>30.000000</td>\n",
              "    </tr>\n",
              "    <tr>\n",
              "      <th>50%</th>\n",
              "      <td>4.800000</td>\n",
              "      <td>47.000000</td>\n",
              "    </tr>\n",
              "    <tr>\n",
              "      <th>75%</th>\n",
              "      <td>7.400000</td>\n",
              "      <td>75.000000</td>\n",
              "    </tr>\n",
              "    <tr>\n",
              "      <th>max</th>\n",
              "      <td>9.200000</td>\n",
              "      <td>95.000000</td>\n",
              "    </tr>\n",
              "  </tbody>\n",
              "</table>\n",
              "</div>"
            ],
            "text/plain": [
              "           Hours     Scores\n",
              "count  25.000000  25.000000\n",
              "mean    5.012000  51.480000\n",
              "std     2.525094  25.286887\n",
              "min     1.100000  17.000000\n",
              "25%     2.700000  30.000000\n",
              "50%     4.800000  47.000000\n",
              "75%     7.400000  75.000000\n",
              "max     9.200000  95.000000"
            ]
          },
          "metadata": {
            "tags": []
          },
          "execution_count": 25
        }
      ]
    },
    {
      "cell_type": "code",
      "metadata": {
        "id": "XGe24eYwAeBB",
        "colab_type": "code",
        "colab": {
          "base_uri": "https://localhost:8080/",
          "height": 294
        },
        "outputId": "8b12e4aa-ba2e-4437-947c-cebcecc67922"
      },
      "source": [
        "#Lets create a simple scatter plot to see if a linear relationship exist before we do Machine Learning\n",
        "#This helps us physically see the standard deviation from the overall linear slope or trend\n",
        "Sampledata.plot(x='Hours', y='Scores', style='o')\n",
        "plt.title('Hours vs Score')\n",
        "plt.xlabel('Hours Studied')\n",
        "plt.ylabel('Score')\n",
        "plt.show()"
      ],
      "execution_count": 26,
      "outputs": [
        {
          "output_type": "display_data",
          "data": {
            "image/png": "[encoded data removed]",
            "text/plain": [
              "<Figure size 432x288 with 1 Axes>"
            ]
          },
          "metadata": {
            "tags": []
          }
        }
      ]
    },
    {
      "cell_type": "code",
      "metadata": {
        "id": "7VWIDEx4bL5R",
        "colab_type": "code",
        "colab": {}
      },
      "source": [
        "#Now we divide the data into \"Attributes\" and \"Labels\".\n",
        "#Attributes are the independent variables  (x axis)\n",
        "#Labels are the dependent variables whose values are to be predicted (y axis)\n",
        "#Now We want to predict the percentage score depending upon the hours studied \n",
        "#iloc gets rows (or columns) at particular positions in the index \n",
        "#row selector and column selector\n",
        "#Even though we only have 2 columns this comes in handy with data with multiple columns\n",
        "x = Sampledata.iloc[:,0:-1].values #We want all the rows \":\" and all the columns \n",
        "y = Sampledata.iloc[:, 1].values #We want all the rows \":\" and just the second column as our (y axis = dependent variable = scores)"
      ],
      "execution_count": 0,
      "outputs": []
    },
    {
      "cell_type": "code",
      "metadata": {
        "id": "4kteANo01oB8",
        "colab_type": "code",
        "colab": {}
      },
      "source": [
        "#Split the dataset into the training set and test set\n",
        "#We're splitting the data for training and testing\n",
        "#75% of it will be for training and 25% of it will be tested for accuracy\n",
        "#xtrain: this will be your training group\n",
        "#xtest: this will be your test group\n",
        "#ytrain: this will be your target for your training group\n",
        "#ytest: as you can imagine, this will be your target for your test group\n",
        "xtrain, xtest, ytrain, ytest = train_test_split(x, y, train_size=0.75, test_size = 0.25, random_state = 0, shuffle=True)\n",
        " \n"
      ],
      "execution_count": 0,
      "outputs": []
    },
    {
      "cell_type": "code",
      "metadata": {
        "id": "vdH529GtfUl0",
        "colab_type": "code",
        "colab": {}
      },
      "source": [
        "#Thece codes train our algorithm for Linear Regression and Machine Learning\n",
        "reg = LinearRegression()\n",
        "reg.fit(xtrain, ytrain)\n",
        "LinearRegression(copy_X=True, fit_intercept=True, n_jobs=None, normalize=False)"
      ],
      "execution_count": 0,
      "outputs": []
    },
    {
      "cell_type": "code",
      "metadata": {
        "id": "TSJyWDIBmVJ5",
        "colab_type": "code",
        "colab": {
          "base_uri": "https://localhost:8080/",
          "height": 34
        },
        "outputId": "34b6e7cf-40bd-433c-e129-53a7e2297bd5"
      },
      "source": [
        "#We want to see the intercept\n",
        "print(reg.intercept_)\n"
      ],
      "execution_count": 30,
      "outputs": [
        {
          "output_type": "stream",
          "text": [
            "1.9322042531516601\n"
          ],
          "name": "stdout"
        }
      ]
    },
    {
      "cell_type": "code",
      "metadata": {
        "id": "YSgDQFNzmjFP",
        "colab_type": "code",
        "colab": {
          "base_uri": "https://localhost:8080/",
          "height": 34
        },
        "outputId": "5e816b48-5d6b-4663-9c51-281c7aabc492"
      },
      "source": [
        "#That one more hour of study can increase chances of a higher score by 9.91% \n",
        "print(reg.coef_)\n"
      ],
      "execution_count": 31,
      "outputs": [
        {
          "output_type": "stream",
          "text": [
            "[9.94167834]\n"
          ],
          "name": "stdout"
        }
      ]
    },
    {
      "cell_type": "code",
      "metadata": {
        "id": "MPIMzZRUwIAW",
        "colab_type": "code",
        "colab": {}
      },
      "source": [
        "#we will use our test data and see how accurately our algorithm predicts the percentage score\n",
        "#To make predictions on the test data\n",
        "yprediction = reg.predict(xtest)\n",
        "\n"
      ],
      "execution_count": 0,
      "outputs": []
    },
    {
      "cell_type": "code",
      "metadata": {
        "id": "8NIkpupinQ0b",
        "colab_type": "code",
        "colab": {}
      },
      "source": [
        "#This shows us the actual value of the test scores compared to the predicted values\n",
        "#Not to bad but could use some tightening up\n",
        "Sampledata2 = pd.DataFrame({'Actual': ytest, 'Predicted': yprediction})\n"
      ],
      "execution_count": 0,
      "outputs": []
    },
    {
      "cell_type": "code",
      "metadata": {
        "id": "ICGURmD4pNXn",
        "colab_type": "code",
        "colab": {
          "base_uri": "https://localhost:8080/",
          "height": 257
        },
        "outputId": "dcde803a-705b-4ae3-9294-eac07b1b87e3"
      },
      "source": [
        "Sampledata2"
      ],
      "execution_count": 34,
      "outputs": [
        {
          "output_type": "execute_result",
          "data": {
            "text/html": [
              "<div>\n",
              "<style scoped>\n",
              "    .dataframe tbody tr th:only-of-type {\n",
              "        vertical-align: middle;\n",
              "    }\n",
              "\n",
              "    .dataframe tbody tr th {\n",
              "        vertical-align: top;\n",
              "    }\n",
              "\n",
              "    .dataframe thead th {\n",
              "        text-align: right;\n",
              "    }\n",
              "</style>\n",
              "<table border=\"1\" class=\"dataframe\">\n",
              "  <thead>\n",
              "    <tr style=\"text-align: right;\">\n",
              "      <th></th>\n",
              "      <th>Actual</th>\n",
              "      <th>Predicted</th>\n",
              "    </tr>\n",
              "  </thead>\n",
              "  <tbody>\n",
              "    <tr>\n",
              "      <th>0</th>\n",
              "      <td>20</td>\n",
              "      <td>16.844722</td>\n",
              "    </tr>\n",
              "    <tr>\n",
              "      <th>1</th>\n",
              "      <td>27</td>\n",
              "      <td>33.745575</td>\n",
              "    </tr>\n",
              "    <tr>\n",
              "      <th>2</th>\n",
              "      <td>69</td>\n",
              "      <td>75.500624</td>\n",
              "    </tr>\n",
              "    <tr>\n",
              "      <th>3</th>\n",
              "      <td>30</td>\n",
              "      <td>26.786400</td>\n",
              "    </tr>\n",
              "    <tr>\n",
              "      <th>4</th>\n",
              "      <td>62</td>\n",
              "      <td>60.588106</td>\n",
              "    </tr>\n",
              "    <tr>\n",
              "      <th>5</th>\n",
              "      <td>35</td>\n",
              "      <td>39.710582</td>\n",
              "    </tr>\n",
              "    <tr>\n",
              "      <th>6</th>\n",
              "      <td>24</td>\n",
              "      <td>20.821393</td>\n",
              "    </tr>\n",
              "  </tbody>\n",
              "</table>\n",
              "</div>"
            ],
            "text/plain": [
              "   Actual  Predicted\n",
              "0      20  16.844722\n",
              "1      27  33.745575\n",
              "2      69  75.500624\n",
              "3      30  26.786400\n",
              "4      62  60.588106\n",
              "5      35  39.710582\n",
              "6      24  20.821393"
            ]
          },
          "metadata": {
            "tags": []
          },
          "execution_count": 34
        }
      ]
    },
    {
      "cell_type": "code",
      "metadata": {
        "id": "koyctYZAzj2U",
        "colab_type": "code",
        "colab": {
          "base_uri": "https://localhost:8080/",
          "height": 70
        },
        "outputId": "65ac259a-fc40-462d-bc16-a182243817bb"
      },
      "source": [
        "from sklearn import metrics\n",
        "#The Root Mean Squared Error is 4.5, which is less than 10% of the mean value of the percentages of all the students (51.48) \n",
        "#This means that our algorithm did a okay job\n",
        "print('Mean Absolute Error:', metrics.mean_absolute_error(ytest, yprediction)) #the absolute value of the errors\n",
        "print('Mean Squared Error:', metrics.mean_squared_error(ytest, yprediction)) #Mean Squared Error (MSE) is the mean of the squared errors\n",
        "print('Root Mean Squared Error:', np.sqrt(metrics.mean_squared_error(ytest, yprediction))) #Square root of the mean of the squared errors"
      ],
      "execution_count": 35,
      "outputs": [
        {
          "output_type": "stream",
          "text": [
            "Mean Absolute Error: 4.130879918502482\n",
            "Mean Squared Error: 20.33292367497996\n",
            "Root Mean Squared Error: 4.509204328368805\n"
          ],
          "name": "stdout"
        }
      ]
    },
    {
      "cell_type": "code",
      "metadata": {
        "id": "jBagO8hDcIph",
        "colab_type": "code",
        "outputId": "c3ea32a6-c5fd-41c1-f745-f81e2d0fb84e",
        "colab": {
          "base_uri": "https://localhost:8080/",
          "height": 294
        }
      },
      "source": [
        "plt.scatter(xtrain, ytrain, color = 'red')\n",
        "plt.plot(xtrain, reg.predict(xtrain), color = 'blue')\n",
        "plt.title('Hours Studied vs Percentage Score (Training set)')\n",
        "plt.xlabel('Hours Studied')\n",
        "plt.ylabel('Percentage Score')\n",
        "plt.show()"
      ],
      "execution_count": 37,
      "outputs": [
        {
          "output_type": "display_data",
          "data": {
            "image/png": "[encoded data removed]",
            "text/plain": [
              "<Figure size 432x288 with 1 Axes>"
            ]
          },
          "metadata": {
            "tags": []
          }
        }
      ]
    },
    {
      "cell_type": "code",
      "metadata": {
        "id": "B4o5Uc3E-3wr",
        "colab_type": "code",
        "colab": {}
      },
      "source": [
        "Sampledata2 = pd.read_csv('https://raw.githubusercontent.com/TERRENCE2019/DATASETS/master/petrol_consumption.csv')\n"
      ],
      "execution_count": 0,
      "outputs": []
    },
    {
      "cell_type": "code",
      "metadata": {
        "id": "g-w8WrR1B1Vl",
        "colab_type": "code",
        "colab": {}
      },
      "source": [
        "Sampledata2.head()\n"
      ],
      "execution_count": 0,
      "outputs": []
    },
    {
      "cell_type": "code",
      "metadata": {
        "id": "TsmoVgzgCA3q",
        "colab_type": "code",
        "colab": {}
      },
      "source": [
        "Sampledata2.describe()\n"
      ],
      "execution_count": 0,
      "outputs": []
    },
    {
      "cell_type": "code",
      "metadata": {
        "id": "ul1SeGHFCz4N",
        "colab_type": "code",
        "colab": {}
      },
      "source": [
        "x = Sampledata2[['Petrol_tax', 'Average_income', 'Paved_Highways','Population_Driver_licence(%)']]\n",
        "y = Sampledata2['Petrol_Consumption']"
      ],
      "execution_count": 0,
      "outputs": []
    },
    {
      "cell_type": "code",
      "metadata": {
        "id": "4LRI4BYfG5cL",
        "colab_type": "code",
        "colab": {}
      },
      "source": [
        "xtrain, xtest, ytrain, ytest = train_test_split(x, y, train_size=0.75, test_size = 0.25, random_state = 0, shuffle=True)\n"
      ],
      "execution_count": 0,
      "outputs": []
    },
    {
      "cell_type": "code",
      "metadata": {
        "id": "xL-XmdebHG_i",
        "colab_type": "code",
        "colab": {
          "base_uri": "https://localhost:8080/",
          "height": 34
        },
        "outputId": "fc52c406-2381-41ea-ba41-6dbafdfd722f"
      },
      "source": [
        "reg = LinearRegression()\n",
        "reg.fit(xtrain, ytrain)"
      ],
      "execution_count": 47,
      "outputs": [
        {
          "output_type": "execute_result",
          "data": {
            "text/plain": [
              "LinearRegression(copy_X=True, fit_intercept=True, n_jobs=None, normalize=False)"
            ]
          },
          "metadata": {
            "tags": []
          },
          "execution_count": 47
        }
      ]
    },
    {
      "cell_type": "code",
      "metadata": {
        "id": "KwshNR9MHPj8",
        "colab_type": "code",
        "colab": {}
      },
      "source": [
        "coeff_df = pd.DataFrame(reg.coef_, x.columns, columns=['Coefficient'])"
      ],
      "execution_count": 0,
      "outputs": []
    },
    {
      "cell_type": "code",
      "metadata": {
        "id": "r8a9KyxVHdAS",
        "colab_type": "code",
        "colab": {
          "base_uri": "https://localhost:8080/",
          "height": 167
        },
        "outputId": "19410407-b185-4901-bb10-0c59b8f30111"
      },
      "source": [
        "coeff_df\n"
      ],
      "execution_count": 50,
      "outputs": [
        {
          "output_type": "execute_result",
          "data": {
            "text/html": [
              "<div>\n",
              "<style scoped>\n",
              "    .dataframe tbody tr th:only-of-type {\n",
              "        vertical-align: middle;\n",
              "    }\n",
              "\n",
              "    .dataframe tbody tr th {\n",
              "        vertical-align: top;\n",
              "    }\n",
              "\n",
              "    .dataframe thead th {\n",
              "        text-align: right;\n",
              "    }\n",
              "</style>\n",
              "<table border=\"1\" class=\"dataframe\">\n",
              "  <thead>\n",
              "    <tr style=\"text-align: right;\">\n",
              "      <th></th>\n",
              "      <th>Coefficient</th>\n",
              "    </tr>\n",
              "  </thead>\n",
              "  <tbody>\n",
              "    <tr>\n",
              "      <th>Petrol_tax</th>\n",
              "      <td>-42.736749</td>\n",
              "    </tr>\n",
              "    <tr>\n",
              "      <th>Average_income</th>\n",
              "      <td>-0.071840</td>\n",
              "    </tr>\n",
              "    <tr>\n",
              "      <th>Paved_Highways</th>\n",
              "      <td>-0.005937</td>\n",
              "    </tr>\n",
              "    <tr>\n",
              "      <th>Population_Driver_licence(%)</th>\n",
              "      <td>1329.987662</td>\n",
              "    </tr>\n",
              "  </tbody>\n",
              "</table>\n",
              "</div>"
            ],
            "text/plain": [
              "                              Coefficient\n",
              "Petrol_tax                     -42.736749\n",
              "Average_income                  -0.071840\n",
              "Paved_Highways                  -0.005937\n",
              "Population_Driver_licence(%)  1329.987662"
            ]
          },
          "metadata": {
            "tags": []
          },
          "execution_count": 50
        }
      ]
    },
    {
      "cell_type": "code",
      "metadata": {
        "id": "OG8OZn6VLGca",
        "colab_type": "code",
        "colab": {}
      },
      "source": [
        "This means that for a unit increase in \"petrol_tax\", there is a decrease of 24.19 million gallons in gas consumption.\n",
        " Similarly, a unit increase in proportion of population with a drivers license results in an increase of 1.324 billion gallons of gas consumption. \n",
        "We can see that \"Average_income\" and \"Paved_Highways\" have a very little effect on the gas consumption."
      ],
      "execution_count": 0,
      "outputs": []
    },
    {
      "cell_type": "code",
      "metadata": {
        "id": "pj8p6XUbLI4D",
        "colab_type": "code",
        "colab": {}
      },
      "source": [
        "yprediction = reg.predict(xtest)\n"
      ],
      "execution_count": 0,
      "outputs": []
    },
    {
      "cell_type": "code",
      "metadata": {
        "id": "mSHsLsd8LReI",
        "colab_type": "code",
        "colab": {}
      },
      "source": [
        "Sampledata3 = pd.DataFrame({'Actual': ytest, 'Predicted': yprediction})\n"
      ],
      "execution_count": 0,
      "outputs": []
    },
    {
      "cell_type": "code",
      "metadata": {
        "id": "XCfvQ-rwLcUo",
        "colab_type": "code",
        "colab": {
          "base_uri": "https://localhost:8080/",
          "height": 407
        },
        "outputId": "e6e4a65c-c995-4fed-fdd3-a7e7a3448a4c"
      },
      "source": [
        "Sampledata3"
      ],
      "execution_count": 54,
      "outputs": [
        {
          "output_type": "execute_result",
          "data": {
            "text/html": [
              "<div>\n",
              "<style scoped>\n",
              "    .dataframe tbody tr th:only-of-type {\n",
              "        vertical-align: middle;\n",
              "    }\n",
              "\n",
              "    .dataframe tbody tr th {\n",
              "        vertical-align: top;\n",
              "    }\n",
              "\n",
              "    .dataframe thead th {\n",
              "        text-align: right;\n",
              "    }\n",
              "</style>\n",
              "<table border=\"1\" class=\"dataframe\">\n",
              "  <thead>\n",
              "    <tr style=\"text-align: right;\">\n",
              "      <th></th>\n",
              "      <th>Actual</th>\n",
              "      <th>Predicted</th>\n",
              "    </tr>\n",
              "  </thead>\n",
              "  <tbody>\n",
              "    <tr>\n",
              "      <th>29</th>\n",
              "      <td>534</td>\n",
              "      <td>472.118636</td>\n",
              "    </tr>\n",
              "    <tr>\n",
              "      <th>4</th>\n",
              "      <td>410</td>\n",
              "      <td>550.406182</td>\n",
              "    </tr>\n",
              "    <tr>\n",
              "      <th>26</th>\n",
              "      <td>577</td>\n",
              "      <td>594.549140</td>\n",
              "    </tr>\n",
              "    <tr>\n",
              "      <th>30</th>\n",
              "      <td>571</td>\n",
              "      <td>574.651279</td>\n",
              "    </tr>\n",
              "    <tr>\n",
              "      <th>32</th>\n",
              "      <td>577</td>\n",
              "      <td>655.427644</td>\n",
              "    </tr>\n",
              "    <tr>\n",
              "      <th>37</th>\n",
              "      <td>704</td>\n",
              "      <td>649.714981</td>\n",
              "    </tr>\n",
              "    <tr>\n",
              "      <th>34</th>\n",
              "      <td>487</td>\n",
              "      <td>518.977453</td>\n",
              "    </tr>\n",
              "    <tr>\n",
              "      <th>40</th>\n",
              "      <td>587</td>\n",
              "      <td>673.625435</td>\n",
              "    </tr>\n",
              "    <tr>\n",
              "      <th>7</th>\n",
              "      <td>467</td>\n",
              "      <td>500.013247</td>\n",
              "    </tr>\n",
              "    <tr>\n",
              "      <th>10</th>\n",
              "      <td>580</td>\n",
              "      <td>499.658004</td>\n",
              "    </tr>\n",
              "    <tr>\n",
              "      <th>11</th>\n",
              "      <td>471</td>\n",
              "      <td>412.608452</td>\n",
              "    </tr>\n",
              "    <tr>\n",
              "      <th>31</th>\n",
              "      <td>554</td>\n",
              "      <td>591.902763</td>\n",
              "    </tr>\n",
              "  </tbody>\n",
              "</table>\n",
              "</div>"
            ],
            "text/plain": [
              "    Actual   Predicted\n",
              "29     534  472.118636\n",
              "4      410  550.406182\n",
              "26     577  594.549140\n",
              "30     571  574.651279\n",
              "32     577  655.427644\n",
              "37     704  649.714981\n",
              "34     487  518.977453\n",
              "40     587  673.625435\n",
              "7      467  500.013247\n",
              "10     580  499.658004\n",
              "11     471  412.608452\n",
              "31     554  591.902763"
            ]
          },
          "metadata": {
            "tags": []
          },
          "execution_count": 54
        }
      ]
    },
    {
      "cell_type": "code",
      "metadata": {
        "id": "7CHRP1a5MFcf",
        "colab_type": "code",
        "colab": {
          "base_uri": "https://localhost:8080/",
          "height": 70
        },
        "outputId": "dffa801e-8bb7-4cfe-b19d-71914a07d400"
      },
      "source": [
        "print('Mean Absolute Error:', metrics.mean_absolute_error(ytest, yprediction))\n",
        "print('Mean Squared Error:', metrics.mean_squared_error(ytest, yprediction))\n",
        "print('Root Mean Squared Error:', np.sqrt(metrics.mean_squared_error(ytest, yprediction)))"
      ],
      "execution_count": 57,
      "outputs": [
        {
          "output_type": "stream",
          "text": [
            "Mean Absolute Error: 57.03775571483457\n",
            "Mean Squared Error: 4489.974028440692\n",
            "Root Mean Squared Error: 67.00726847470125\n"
          ],
          "name": "stdout"
        }
      ]
    },
    {
      "cell_type": "code",
      "metadata": {
        "id": "2RWKHheVMdHa",
        "colab_type": "code",
        "colab": {}
      },
      "source": [
        "Need more data: Only one year worth of data isn't that much, whereas having multiple years worth could have helped us improve the accuracy quite a bit.\n",
        "Bad assumptions: We made the assumption that this data has a linear relationship, but that might not be the case. Visualizing the data may help you determine that.\n",
        "Poor features: The features we used may not have had a high enough correlation to the values we were trying to predict."
      ],
      "execution_count": 0,
      "outputs": []
    }
  ]
}